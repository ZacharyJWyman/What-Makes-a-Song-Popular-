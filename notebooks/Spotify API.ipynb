{
 "cells": [
  {
   "cell_type": "code",
   "execution_count": 1,
   "metadata": {},
   "outputs": [],
   "source": [
    "import spotipy\n",
    "import spotipy.util as util\n",
    "from spotipy.oauth2 import SpotifyClientCredentials\n",
    "import pandas as pd\n",
    "import time "
   ]
  },
  {
   "cell_type": "code",
   "execution_count": 2,
   "metadata": {},
   "outputs": [],
   "source": [
    "client_id = '529eee33741c45de9d12777f9b4d8f2d'\n",
    "client_secret = '0c9d6e87495e45d69e3afd78356d0c23'\n",
    "\n",
    "creds = SpotifyClientCredentials(client_id, client_secret)\n",
    "sp = spotipy.Spotify(client_credentials_manager=creds)"
   ]
  },
  {
   "cell_type": "code",
   "execution_count": 3,
   "metadata": {},
   "outputs": [],
   "source": [
    "#refresh token as token expires after 1 hour\n",
    "#token = creds.get_access_token()\n",
    "#sp = spotipy.Spotify(auth=token)"
   ]
  },
  {
   "cell_type": "code",
   "execution_count": 4,
   "metadata": {},
   "outputs": [],
   "source": [
    "#function to grab playlist from user\n",
    "def getTrackIDs(user, playlist_id):\n",
    "    ids = []\n",
    "    playlist = sp.user_playlist(user, playlist_id)\n",
    "    for item in playlist['tracks']['items']:\n",
    "        track = item['track']\n",
    "        ids.append(track['id'])\n",
    "    return ids\n",
    "\n",
    "ids = getTrackIDs('United States Top 50', '37i9dQZEVXbLRQDuF5jeBp')"
   ]
  },
  {
   "cell_type": "code",
   "execution_count": 5,
   "metadata": {},
   "outputs": [],
   "source": [
    "#grab data from track\n",
    "def getTrackFeatures(id):\n",
    "    meta = sp.track(id)\n",
    "    features = sp.audio_features(id)\n",
    "\n",
    "    #main track items\n",
    "    name = meta['name']\n",
    "    album = meta['album']['name']\n",
    "    artist = meta['album']['artists'][0]['name']\n",
    "    release_date = meta['album']['release_date']\n",
    "    length = meta['duration_ms']\n",
    "    popularity = meta['popularity']\n",
    "\n",
    "    #track features\n",
    "    acousticness = features[0]['acousticness']\n",
    "    danceability = features[0]['danceability']\n",
    "    instrumentalness = features[0]['instrumentalness']\n",
    "    loudness = features[0]['loudness']\n",
    "    tempo = features[0]['tempo']\n",
    "    speechiness = features[0]['speechiness']\n",
    "    valence = features[0]['valence']\n",
    "    time_signature = features[0]['time_signature']\n",
    "    energy = features[0]['energy']\n",
    "    liveness = features[0]['liveness']\n",
    "\n",
    "\n",
    "    track = [name, album, artist, release_date, length, popularity, acousticness, danceability, instrumentalness, loudness, tempo, speechiness, valence, time_signature, energy, liveness]\n",
    "    return track"
   ]
  },
  {
   "cell_type": "code",
   "execution_count": 6,
   "metadata": {},
   "outputs": [],
   "source": [
    "#grab tracks\n",
    "tracks = []\n",
    "\n",
    "for i in range(len(ids)):\n",
    "    time.sleep(.5)\n",
    "    track = getTrackFeatures(ids[i])\n",
    "    tracks.append(track)"
   ]
  },
  {
   "cell_type": "code",
   "execution_count": 7,
   "metadata": {},
   "outputs": [],
   "source": [
    "current50 = pd.DataFrame(tracks,\n",
    "                 columns = ['name',\n",
    "                            'album',\n",
    "                            'artist',\n",
    "                            'release_date',\n",
    "                            'length',\n",
    "                            'popularity',\n",
    "                            'acousticness',\n",
    "                            'danceability',\n",
    "                            'instrumentalness',\n",
    "                            'loudness',\n",
    "                            'tempo',\n",
    "                            'speechiness',\n",
    "                            'valence',\n",
    "                            'time_signature',\n",
    "                           'energy',\n",
    "                           'liveness'])"
   ]
  },
  {
   "cell_type": "markdown",
   "metadata": {},
   "source": [
    "## What Makes A Song Popular?"
   ]
  },
  {
   "cell_type": "code",
   "execution_count": 8,
   "metadata": {},
   "outputs": [],
   "source": [
    "stored_songs = pd.read_csv(r'D:\\Data Science\\Spotify API\\data\\stored_songs.csv')\n",
    "stored_songs.drop('Unnamed: 0', axis = 1, inplace=True)"
   ]
  },
  {
   "cell_type": "code",
   "execution_count": 9,
   "metadata": {},
   "outputs": [],
   "source": [
    "#Need to add songs new to current50 list to stored_songs\n",
    "stored_songs = pd.concat([stored_songs, current50], ignore_index=True, sort=True)"
   ]
  },
  {
   "cell_type": "code",
   "execution_count": 10,
   "metadata": {},
   "outputs": [],
   "source": [
    "stored_songs.drop_duplicates(inplace=True)\n",
    "stored_songs['genre'] = None"
   ]
  },
  {
   "cell_type": "code",
   "execution_count": 11,
   "metadata": {},
   "outputs": [],
   "source": [
    "#format stored songs to merge with past popular songs\n",
    "order =                     ['name',\n",
    "                            'artist',\n",
    "                             'album',\n",
    "                             'genre',\n",
    "                            'release_date',\n",
    "                             'length',\n",
    "                            'acousticness',\n",
    "                            'danceability',\n",
    "                            'instrumentalness',\n",
    "                            'loudness',\n",
    "                             'liveness',\n",
    "                            'tempo',\n",
    "                             'energy',\n",
    "                            'speechiness',\n",
    "                            'valence',\n",
    "                            'time_signature',\n",
    "                            'popularity']\n",
    "stored_songs = pd.DataFrame(stored_songs, columns = order)"
   ]
  },
  {
   "cell_type": "code",
   "execution_count": 12,
   "metadata": {},
   "outputs": [],
   "source": [
    "songs10_19 = pd.read_csv(r\"D:\\Data Science\\Spotify API\\data\\2010-2019_pop_songs.csv\", encoding='ISO-8859-1')\n",
    "songs10_19.drop('Unnamed: 0',axis = 1, inplace=True)\n",
    "songs10_19['album'] = None\n",
    "songs10_19['instrumentalness'] = None\n",
    "songs10_19['time_signature'] = None"
   ]
  },
  {
   "cell_type": "code",
   "execution_count": 13,
   "metadata": {},
   "outputs": [],
   "source": [
    "columns = ['name',\n",
    "            'artist',\n",
    "           'genre',\n",
    "            'release_date',\n",
    "            'tempo',\n",
    "            'energy',\n",
    "            'danceability',\n",
    "            'loudness',\n",
    "            'liveness',\n",
    "            'valence',\n",
    "            'length',\n",
    "            'acoustiness',\n",
    "            'speechiness',\n",
    "            'popularity',\n",
    "            'album',\n",
    "            'instrumentalness',\n",
    "            'time_signature']\n",
    "songs10_19.columns = [i for i in columns]"
   ]
  },
  {
   "cell_type": "code",
   "execution_count": 14,
   "metadata": {},
   "outputs": [],
   "source": [
    "songs10_19 = pd.DataFrame(songs10_19, columns = order)"
   ]
  },
  {
   "cell_type": "markdown",
   "metadata": {},
   "source": [
    "## Extracting Missing Data From Spotify API "
   ]
  },
  {
   "cell_type": "code",
   "execution_count": 15,
   "metadata": {},
   "outputs": [],
   "source": [
    "#get missing data\n",
    "def artist_info(lookup) :\n",
    "\n",
    "    try :\n",
    "        artist = sp.search(lookup)\n",
    "        artist_uri = artist['tracks']['items'][0]['album']['artists'][0]['uri']\n",
    "        track_uri = artist['tracks']['items'][0]['uri']\n",
    "\n",
    "        release_date = artist['tracks']['items'][0]['album']['release_date']\n",
    "        album = artist['tracks']['items'][0]['album']\n",
    "\n",
    "        artist = sp.artist(artist_uri)\n",
    "        popularity = artist['popularity']\n",
    "\n",
    "        audio_features = sp.audio_features(track_uri)[0]\n",
    "\n",
    "        acousticness = audio_features['acousticness']\n",
    "        instrumentalness = audio_features['instrumentalness']\n",
    "        time_signature = audio_features['time_signature']\n",
    "\n",
    "        return popularity, acousticness, instrumentalness, time_signature, album\n",
    "\n",
    "    except :\n",
    "        return [None]*5"
   ]
  },
  {
   "cell_type": "code",
   "execution_count": 16,
   "metadata": {},
   "outputs": [],
   "source": [
    "songs10_19['lookup'] = songs10_19['name'] + '' + songs10_19['artist']"
   ]
  },
  {
   "cell_type": "code",
   "execution_count": 17,
   "metadata": {},
   "outputs": [],
   "source": [
    "songs10_19['popularity_2'], songs10_19['acousticness'], songs10_19['instrumentalness'], songs10_19['time_signature'], songs10_19['album'] = zip(*songs10_19['lookup'].map(artist_info))"
   ]
  },
  {
   "cell_type": "code",
   "execution_count": 18,
   "metadata": {},
   "outputs": [],
   "source": [
    "top_songs = pd.concat([stored_songs, songs10_19], ignore_index = True, sort = True)"
   ]
  },
  {
   "cell_type": "code",
   "execution_count": 19,
   "metadata": {},
   "outputs": [],
   "source": [
    "songs10_19.drop('lookup', axis = 1, inplace=True)"
   ]
  },
  {
   "cell_type": "code",
   "execution_count": 30,
   "metadata": {},
   "outputs": [],
   "source": [
    "#read data from github\n",
    "old_popu_songs = pd.read_csv(r'https://raw.githubusercontent.com/ZacharyJWyman/Spotify-API/master/data/songs10_19songs.csv?token=APIXTT7OQYTJIHI3JSIRO427H3YA2')\n",
    "new_popu_songs = pd.read_csv(r'https://raw.githubusercontent.com/ZacharyJWyman/Spotify-API/master/data/stored_songs.csv?token=APIXTT6HY3BVIA5DVBXWR6C7H3X7I')"
   ]
  }
 ],
 "metadata": {
  "kernelspec": {
   "display_name": "Python 3",
   "language": "python",
   "name": "python3"
  },
  "language_info": {
   "codemirror_mode": {
    "name": "ipython",
    "version": 3
   },
   "file_extension": ".py",
   "mimetype": "text/x-python",
   "name": "python",
   "nbconvert_exporter": "python",
   "pygments_lexer": "ipython3",
   "version": "3.7.6"
  }
 },
 "nbformat": 4,
 "nbformat_minor": 4
}
